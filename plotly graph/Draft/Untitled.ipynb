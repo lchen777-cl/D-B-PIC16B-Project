{
 "cells": [
  {
   "cell_type": "code",
   "execution_count": 1,
   "id": "39556f90",
   "metadata": {},
   "outputs": [],
   "source": [
    "import plotly.express as px\n",
    "import pandas as pd\n",
    "import plotly.graph_objects as go\n",
    "from plotly.subplots import make_subplots\n",
    "import numpy as np\n",
    "from sklearn.linear_model import LinearRegression\n",
    "import matplotlib.pyplot as plt\n",
    "\n",
    "def p2f(x):\n",
    "    return float(x.strip('%'))/100"
   ]
  },
  {
   "cell_type": "code",
   "execution_count": 2,
   "id": "7622e904",
   "metadata": {},
   "outputs": [],
   "source": [
    "EITC = pd.read_csv('EITC.csv',converters={'Share of Returns 2016':p2f, 'Share of Returns 2018':p2f})\n",
    "EITC2021 = pd.read_csv('EITC2021.csv', converters={'EITC':p2f})\n",
    "Poverty = pd.read_csv('Poverty Decrease.csv')\n",
    "Family = pd.read_excel('Family Poverty.xlsx')\n",
    "US_ally = pd.read_csv('US_ally.csv')\n",
    "US_unemployment = pd.read_csv('US_unemployment.csv')\n",
    "df = pd.read_csv('df.csv')"
   ]
  },
  {
   "cell_type": "code",
   "execution_count": null,
   "id": "c03616ce",
   "metadata": {},
   "outputs": [],
   "source": []
  }
 ],
 "metadata": {
  "kernelspec": {
   "display_name": "Python 3",
   "language": "python",
   "name": "python3"
  },
  "language_info": {
   "codemirror_mode": {
    "name": "ipython",
    "version": 3
   },
   "file_extension": ".py",
   "mimetype": "text/x-python",
   "name": "python",
   "nbconvert_exporter": "python",
   "pygments_lexer": "ipython3",
   "version": "3.8.8"
  }
 },
 "nbformat": 4,
 "nbformat_minor": 5
}
